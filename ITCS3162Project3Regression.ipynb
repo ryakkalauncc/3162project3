{
  "nbformat": 4,
  "nbformat_minor": 0,
  "metadata": {
    "colab": {
      "provenance": [],
      "authorship_tag": "ABX9TyM12Anawz32gTdxu1PFBwNc",
      "include_colab_link": true
    },
    "kernelspec": {
      "name": "python3",
      "display_name": "Python 3"
    },
    "language_info": {
      "name": "python"
    }
  },
  "cells": [
    {
      "cell_type": "markdown",
      "metadata": {
        "id": "view-in-github",
        "colab_type": "text"
      },
      "source": [
        "<a href=\"https://colab.research.google.com/github/ryakkalauncc/3162project3/blob/main/ITCS3162Project3Regression.ipynb\" target=\"_parent\"><img src=\"https://colab.research.google.com/assets/colab-badge.svg\" alt=\"Open In Colab\"/></a>"
      ]
    },
    {
      "cell_type": "markdown",
      "source": [
        "***Introduce Problem and dataset here***\n",
        "The dataset I'm using in my analysis is the Exploring Student Acheivement Trends dataset from Kaggle, which explores the records of a 1,000 students with each record containing socioeconomic, demographic, and educational factors. It also encompasses the math, reading, and writing test scores of each student. The goal is to predict student academic performance specifically through their math scores, using demographic and educational factors.\n"
      ],
      "metadata": {
        "id": "rXyO1AWUESjG"
      }
    },
    {
      "cell_type": "markdown",
      "source": [
        "# What is regression and how does it work?- TODO\n",
        "Explain what regression is and how it works (specifically linear regression, as we have covered it in class OR if you used a different regression model, you may explain that one instead if prefererd). Bonus points for math (up to 5 bonus points for very good explanations)."
      ],
      "metadata": {
        "id": "R7mdGkt5EYv3"
      }
    },
    {
      "cell_type": "markdown",
      "source": [
        "**Experiments**\n",
        "1. Baseline Linear Regression\n",
        "2. Linear Regression\n",
        "3. Ridge Regression\n"
      ],
      "metadata": {
        "id": "ok4tNm6sEeoO"
      }
    },
    {
      "cell_type": "code",
      "execution_count": null,
      "metadata": {
        "id": "qnX678x6EF1c"
      },
      "outputs": [],
      "source": [
        "import pandas as pd\n",
        "from sklearn.model_selection import train_test_split\n",
        "from sklearn.linear_model import LinearRegression\n",
        "from sklearn.metrics import mean_squared_error\n",
        "import numpy as np\n",
        "\n",
        "df = pd.read_csv(\"StudentsPerformance.csv\")\n",
        "X = df[[\"reading score\",\"writing score\"]]\n",
        "y = df[\"math score\"]\n",
        "X_train, X_test, y_train, y_test = train_test_split(X, y, test_size = 0.2, random_state=42)\n",
        "\n",
        "model = LinearRegression()\n",
        "model.fit(X_train, y_train)\n",
        "y_pred = model.predict(X_test)\n",
        "rmse = np.sqrt(mean_squared_error(y_test, y_pred))\n",
        "print(\"Experiment 1: Baseline Linear Regression RMSE\", rmse)"
      ]
    },
    {
      "cell_type": "markdown",
      "source": [
        "**Experiment 2**"
      ],
      "metadata": {
        "id": "9gjzAJDBEweM"
      }
    },
    {
      "cell_type": "code",
      "source": [
        "import pandas as pd\n",
        "from sklearn.model_selection import train_test_split\n",
        "from sklearn.preprocessing import OneHotEncoder, StandardScaler\n",
        "from sklearn.compose import ColumnTransformer\n",
        "from sklearn.pipeline import Pipeline\n",
        "from sklearn.linear_model import LinearRegression\n",
        "from sklearn.metrics import mean_squared_error\n",
        "import numpy as np\n",
        "\n",
        "df = pd.read_csv(\"StudentsPerformance.csv\")\n",
        "df[\"average_score\"] = (df[\"reading score\"] + df[\"writing score\"])/2\n",
        "X = df.drop(columns = [\"math score\"])\n",
        "y = df[\"math score\"]\n",
        "X_train, X_test, y_train, y_test = train_test_split(X,y,test_size=0.20,random_state=42)\n",
        "\n",
        "categorical_columns = [\n",
        "    \"gender\",\n",
        "    \"race/ethnicity\",\n",
        "    \"parental level of education\",\n",
        "    \"lunch\",\n",
        "    \"test preparation course\"\n",
        "]\n",
        "numeric_columns = [\"reading score\", \"writing score\", \"average_score\"]\n",
        "preprocessor = ColumnTransformer(\n",
        "    transformers=[\n",
        "        (\"cat\", OneHotEncoder(drop = \"first\"), categorical_columns),\n",
        "        (\"num\", StandardScaler(), numeric_columns)\n",
        "    ],\n",
        "    remainder = \"drop\"\n",
        ")\n",
        "model = Pipeline(steps = [(\"preprocessor\", preprocessor), (\"regressor\", LinearRegression())])\n",
        "\n",
        "model.fit(X_train, y_train)\n",
        "y_pred = model.predict(X_test)\n",
        "rmse = np.sqrt(mean_squared_error(y_test, y_pred))\n",
        "print(\"Experiment 2: Linear Regression RMSE\", rmse)"
      ],
      "metadata": {
        "id": "BxAa1KSLtMr1"
      },
      "execution_count": null,
      "outputs": []
    },
    {
      "cell_type": "markdown",
      "source": [
        "**Experiment 3**"
      ],
      "metadata": {
        "id": "YYG8CL4GEzR_"
      }
    },
    {
      "cell_type": "code",
      "source": [
        "import pandas as pd\n",
        "from sklearn.model_selection import train_test_split\n",
        "from sklearn.preprocessing import OneHotEncoder, StandardScaler\n",
        "from sklearn.compose import ColumnTransformer\n",
        "from sklearn.pipeline import Pipeline\n",
        "from sklearn.linear_model import Ridge\n",
        "from sklearn.metrics import mean_squared_error\n",
        "import numpy as np\n",
        "\n",
        "df = pd.read_csv(\"StudentsPerformance.csv\")"
      ],
      "metadata": {
        "id": "nUCM1cSaaktD"
      },
      "execution_count": null,
      "outputs": []
    },
    {
      "cell_type": "code",
      "source": [
        "df[average_score] = (df[\"reading score\"] + df[\"writing score\"])/2\n",
        "X = df.drop(columns = [\"math score\"])\n",
        "y = df[\"math score\"]\n",
        "\n",
        "X_train, X_test, y_train, y_test = train_test_split(X,y,test_size=0.20,random_state=42)\n",
        "\n",
        "categorical_columns = [\n",
        "    \"gender\",\n",
        "    \"race/ethnicity\",\n",
        "    \"parental level of education\",\n",
        "    \"lunch\",\n",
        "    \"test preparation course\"\n",
        "]\n",
        "numeric_columns = [\"reading score\", \"writing score\", \"average_score\"]\n",
        "\n",
        "preprocessor = ColumnTransformer(\n",
        "    transformers=[\n",
        "        (\"cat\", OneHotEncoder(drop = \"first\"), categorical_columns),\n",
        "        (\"num\", StandardScaler(), numeric_columns)\n",
        "    ],\n",
        "    remainder = \"drop\"\n",
        ")\n",
        "\n",
        "ridge_pipeline = Pipeline(steps = [(\"preprocessor\", preprocessor), (\"model\", Ridge(alpha=1.0))])\n",
        "ridge_pipeline.fit(X_train, y_train)\n",
        "y_pred = ridge_pipeline.predict(X_test)\n",
        "rmse = np.sqrt(mean_squared_error(y_test, y_pred))\n",
        "print(\"Experiment 3: Ridge Regression RMSE\" , rmse)"
      ],
      "metadata": {
        "id": "aba_JrmiE22N"
      },
      "execution_count": null,
      "outputs": []
    },
    {
      "cell_type": "markdown",
      "source": [
        "**Impact Section**\n",
        ""
      ],
      "metadata": {
        "id": "LYxnK8gEFEDS"
      }
    },
    {
      "cell_type": "markdown",
      "source": [
        "**Conclusion Section**"
      ],
      "metadata": {
        "id": "5SDVuMrrFGvC"
      }
    },
    {
      "cell_type": "markdown",
      "source": [
        "**References**"
      ],
      "metadata": {
        "id": "FutgSkSjFKCt"
      }
    }
  ]
}